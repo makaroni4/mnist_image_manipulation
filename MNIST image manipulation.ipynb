{
 "cells": [
  {
   "cell_type": "markdown",
   "metadata": {},
   "source": [
    "# MNIST image manipulation\n",
    "\n",
    "This notebook contains some functions for synthesizing data from MNIST dataset.\n",
    "\n",
    "Let's include all the necessary libs first and read data.\n",
    "\n",
    "**IMPORTANT**: in this example train/test data are without header row, so we shouldn't skip it."
   ]
  },
  {
   "cell_type": "code",
   "execution_count": 20,
   "metadata": {
    "collapsed": false,
    "deletable": true,
    "editable": true
   },
   "outputs": [],
   "source": [
    "import numpy as np\n",
    "import pandas as pd\n",
    "import random\n",
    "import scipy.ndimage as nd\n",
    "import matplotlib.pyplot as plt\n",
    "\n",
    "IMAGE_SIZE = 28\n",
    "\n",
    "train_data = pd.read_csv(\"./data/train.csv\", header=None)"
   ]
  },
  {
   "cell_type": "markdown",
   "metadata": {},
   "source": [
    "Let's start from rotations and shearing (both suggested in [\"Handwritten Digit Recognition with a Committee of\n",
    "Deep Neural Nets on GPUs\"](https://arxiv.org/pdf/1103.4487.pdf))."
   ]
  },
  {
   "cell_type": "code",
   "execution_count": 56,
   "metadata": {
    "collapsed": false
   },
   "outputs": [
    {
     "data": {
      "image/png": "[encoded data removed]",
      "text/plain": [
       "<matplotlib.figure.Figure at 0x10a9567f0>"
      ]
     },
     "metadata": {},
     "output_type": "display_data"
    },
    {
     "data": {
      "image/png": "[encoded data removed]",
      "text/plain": [
       "<matplotlib.figure.Figure at 0x10ac32860>"
      ]
     },
     "metadata": {},
     "output_type": "display_data"
    },
    {
     "data": {
      "image/png": "[encoded data removed]",
      "text/plain": [
       "<matplotlib.figure.Figure at 0x10a632da0>"
      ]
     },
     "metadata": {},
     "output_type": "display_data"
    }
   ],
   "source": [
    "train_data_rotated = []\n",
    "\n",
    "def show_two_images(X1, X2):\n",
    "    fig = plt.figure()\n",
    "    \n",
    "    sub_plot = fig.add_subplot(1, 2, 1)\n",
    "    imgplot = plt.imshow(X1)\n",
    "    sub_plot.set_title('Before')\n",
    "    \n",
    "    sub_plot = fig.add_subplot(1, 2, 2)\n",
    "    imgplot = plt.imshow(X2)\n",
    "    sub_plot.set_title('After')\n",
    "    \n",
    "    plt.show()\n",
    "\n",
    "for i, row in train_data.iterrows():\n",
    "    y = row[0]\n",
    "    X = row[1:].values.reshape(IMAGE_SIZE, IMAGE_SIZE)\n",
    "    \n",
    "    angle = np.random.randint(0, 7.5) if y == 1 or y == 7 else np.random.randint(0, 15)        \n",
    "    angle *= random.choice([-1, 1])\n",
    "    X_rotated = nd.rotate(X, angle, reshape=False)\n",
    "    \n",
    "    if i < 3:\n",
    "        show_two_images(X, X_rotated)\n",
    "    \n",
    "    train_data_rotated.append([y] + np.reshape(X_rotated, IMAGE_SIZE * IMAGE_SIZE))\n",
    "    \n",
    "pd.DataFrame(train_data_rotated).to_csv('./data/train_rotated.csv', index=False, header=False)"
   ]
  },
  {
   "cell_type": "markdown",
   "metadata": {},
   "source": [
    "TODO:\n",
    "\n",
    "* normalize images, remove values like 263 etc, have thresholds like 0 and 1 for example or [-1.0, 1.0]\n",
    "* add sheared dataset\n",
    "* add elastic distorted dataset\n",
    "* add flipped/mirrored dataset ?\n",
    "* add scaled dataset (10, 12, 14, 16, 18, 20 ...)"
   ]
  },
  {
   "cell_type": "code",
   "execution_count": null,
   "metadata": {
    "collapsed": true
   },
   "outputs": [],
   "source": []
  }
 ],
 "metadata": {
  "kernelspec": {
   "display_name": "Python 3",
   "language": "python",
   "name": "python3"
  },
  "language_info": {
   "codemirror_mode": {
    "name": "ipython",
    "version": 3
   },
   "file_extension": ".py",
   "mimetype": "text/x-python",
   "name": "python",
   "nbconvert_exporter": "python",
   "pygments_lexer": "ipython3",
   "version": "3.6.0"
  }
 },
 "nbformat": 4,
 "nbformat_minor": 2
}
